{
 "cells": [
  {
   "cell_type": "markdown",
   "metadata": {},
   "source": [
    "MNIST Digit Recognition with Deep Learning - Malik Endsley and Daniel Park"
   ]
  },
  {
   "cell_type": "markdown",
   "metadata": {},
   "source": [
    "Our Dataset is Digit Recognition data. The Dataset contains test and training data of tens of thousands of images of numbers. It is from the MNIST library, famously used as a “hello world” of ML."
   ]
  },
  {
   "cell_type": "markdown",
   "metadata": {},
   "source": [
    "The information included in the dataset is succinct but complete. Each row represents a 28x28 image (784 pixels). There are 42,000 training images and 28,000 testing images."
   ]
  },
  {
   "cell_type": "markdown",
   "metadata": {},
   "source": [
    "Let's take a look at the data: <br/><br/><br/>"
   ]
  },
  {
   "cell_type": "code",
<<<<<<< HEAD
   "execution_count": 241,
=======
   "execution_count": 2,
>>>>>>> master
   "metadata": {},
   "outputs": [
    {
     "data": {
      "text/html": [
       "<div>\n",
       "<style scoped>\n",
       "    .dataframe tbody tr th:only-of-type {\n",
       "        vertical-align: middle;\n",
       "    }\n",
       "\n",
       "    .dataframe tbody tr th {\n",
       "        vertical-align: top;\n",
       "    }\n",
       "\n",
       "    .dataframe thead th {\n",
       "        text-align: right;\n",
       "    }\n",
       "</style>\n",
       "<table border=\"1\" class=\"dataframe\">\n",
       "  <thead>\n",
       "    <tr style=\"text-align: right;\">\n",
       "      <th></th>\n",
       "      <th>label</th>\n",
       "      <th>pixel0</th>\n",
       "      <th>pixel1</th>\n",
       "      <th>pixel2</th>\n",
       "      <th>pixel3</th>\n",
       "      <th>pixel4</th>\n",
       "      <th>pixel5</th>\n",
       "      <th>pixel6</th>\n",
       "      <th>pixel7</th>\n",
       "      <th>pixel8</th>\n",
       "      <th>...</th>\n",
       "      <th>pixel774</th>\n",
       "      <th>pixel775</th>\n",
       "      <th>pixel776</th>\n",
       "      <th>pixel777</th>\n",
       "      <th>pixel778</th>\n",
       "      <th>pixel779</th>\n",
       "      <th>pixel780</th>\n",
       "      <th>pixel781</th>\n",
       "      <th>pixel782</th>\n",
       "      <th>pixel783</th>\n",
       "    </tr>\n",
       "  </thead>\n",
       "  <tbody>\n",
       "    <tr>\n",
       "      <th>0</th>\n",
       "      <td>1</td>\n",
       "      <td>0</td>\n",
       "      <td>0</td>\n",
       "      <td>0</td>\n",
       "      <td>0</td>\n",
       "      <td>0</td>\n",
       "      <td>0</td>\n",
       "      <td>0</td>\n",
       "      <td>0</td>\n",
       "      <td>0</td>\n",
       "      <td>...</td>\n",
       "      <td>0</td>\n",
       "      <td>0</td>\n",
       "      <td>0</td>\n",
       "      <td>0</td>\n",
       "      <td>0</td>\n",
       "      <td>0</td>\n",
       "      <td>0</td>\n",
       "      <td>0</td>\n",
       "      <td>0</td>\n",
       "      <td>0</td>\n",
       "    </tr>\n",
       "    <tr>\n",
       "      <th>1</th>\n",
       "      <td>0</td>\n",
       "      <td>0</td>\n",
       "      <td>0</td>\n",
       "      <td>0</td>\n",
       "      <td>0</td>\n",
       "      <td>0</td>\n",
       "      <td>0</td>\n",
       "      <td>0</td>\n",
       "      <td>0</td>\n",
       "      <td>0</td>\n",
       "      <td>...</td>\n",
       "      <td>0</td>\n",
       "      <td>0</td>\n",
       "      <td>0</td>\n",
       "      <td>0</td>\n",
       "      <td>0</td>\n",
       "      <td>0</td>\n",
       "      <td>0</td>\n",
       "      <td>0</td>\n",
       "      <td>0</td>\n",
       "      <td>0</td>\n",
       "    </tr>\n",
       "    <tr>\n",
       "      <th>2</th>\n",
       "      <td>1</td>\n",
       "      <td>0</td>\n",
       "      <td>0</td>\n",
       "      <td>0</td>\n",
       "      <td>0</td>\n",
       "      <td>0</td>\n",
       "      <td>0</td>\n",
       "      <td>0</td>\n",
       "      <td>0</td>\n",
       "      <td>0</td>\n",
       "      <td>...</td>\n",
       "      <td>0</td>\n",
       "      <td>0</td>\n",
       "      <td>0</td>\n",
       "      <td>0</td>\n",
       "      <td>0</td>\n",
       "      <td>0</td>\n",
       "      <td>0</td>\n",
       "      <td>0</td>\n",
       "      <td>0</td>\n",
       "      <td>0</td>\n",
       "    </tr>\n",
       "    <tr>\n",
       "      <th>3</th>\n",
       "      <td>4</td>\n",
       "      <td>0</td>\n",
       "      <td>0</td>\n",
       "      <td>0</td>\n",
       "      <td>0</td>\n",
       "      <td>0</td>\n",
       "      <td>0</td>\n",
       "      <td>0</td>\n",
       "      <td>0</td>\n",
       "      <td>0</td>\n",
       "      <td>...</td>\n",
       "      <td>0</td>\n",
       "      <td>0</td>\n",
       "      <td>0</td>\n",
       "      <td>0</td>\n",
       "      <td>0</td>\n",
       "      <td>0</td>\n",
       "      <td>0</td>\n",
       "      <td>0</td>\n",
       "      <td>0</td>\n",
       "      <td>0</td>\n",
       "    </tr>\n",
       "    <tr>\n",
       "      <th>4</th>\n",
       "      <td>0</td>\n",
       "      <td>0</td>\n",
       "      <td>0</td>\n",
       "      <td>0</td>\n",
       "      <td>0</td>\n",
       "      <td>0</td>\n",
       "      <td>0</td>\n",
       "      <td>0</td>\n",
       "      <td>0</td>\n",
       "      <td>0</td>\n",
       "      <td>...</td>\n",
       "      <td>0</td>\n",
       "      <td>0</td>\n",
       "      <td>0</td>\n",
       "      <td>0</td>\n",
       "      <td>0</td>\n",
       "      <td>0</td>\n",
       "      <td>0</td>\n",
       "      <td>0</td>\n",
       "      <td>0</td>\n",
       "      <td>0</td>\n",
       "    </tr>\n",
       "  </tbody>\n",
       "</table>\n",
       "<p>5 rows × 785 columns</p>\n",
       "</div>"
      ],
      "text/plain": [
       "   label  pixel0  pixel1  pixel2  pixel3  pixel4  pixel5  pixel6  pixel7  \\\n",
       "0      1       0       0       0       0       0       0       0       0   \n",
       "1      0       0       0       0       0       0       0       0       0   \n",
       "2      1       0       0       0       0       0       0       0       0   \n",
       "3      4       0       0       0       0       0       0       0       0   \n",
       "4      0       0       0       0       0       0       0       0       0   \n",
       "\n",
       "   pixel8  ...  pixel774  pixel775  pixel776  pixel777  pixel778  pixel779  \\\n",
       "0       0  ...         0         0         0         0         0         0   \n",
       "1       0  ...         0         0         0         0         0         0   \n",
       "2       0  ...         0         0         0         0         0         0   \n",
       "3       0  ...         0         0         0         0         0         0   \n",
       "4       0  ...         0         0         0         0         0         0   \n",
       "\n",
       "   pixel780  pixel781  pixel782  pixel783  \n",
       "0         0         0         0         0  \n",
       "1         0         0         0         0  \n",
       "2         0         0         0         0  \n",
       "3         0         0         0         0  \n",
       "4         0         0         0         0  \n",
       "\n",
       "[5 rows x 785 columns]"
      ]
     },
<<<<<<< HEAD
     "execution_count": 241,
=======
     "execution_count": 2,
>>>>>>> master
     "metadata": {},
     "output_type": "execute_result"
    }
   ],
   "source": [
    "#all the imports have been retroactively moved to the \n",
    "#top so they're easily seen\n",
    "import pandas as pd\n",
    "import seaborn as sns\n",
    "import matplotlib.pyplot as plt\n",
    "import numpy as np\n",
    "from keras.utils import to_categorical\n",
    "from sklearn.model_selection import train_test_split\n",
    "from sklearn.metrics import confusion_matrix\n",
    "from keras.models import Sequential\n",
    "from keras.layers import Dense, Conv2D, Flatten\n",
    "\n",
    "trainingDigits = pd.read_csv(\"data/train.csv\")\n",
    "testingDigits = pd.read_csv(\"data/test.csv\")\n",
    "trainingDigits.head()"
   ]
  },
  {
   "cell_type": "code",
<<<<<<< HEAD
   "execution_count": 224,
=======
   "execution_count": 3,
>>>>>>> master
   "metadata": {},
   "outputs": [
    {
     "data": {
      "text/html": [
       "<div>\n",
       "<style scoped>\n",
       "    .dataframe tbody tr th:only-of-type {\n",
       "        vertical-align: middle;\n",
       "    }\n",
       "\n",
       "    .dataframe tbody tr th {\n",
       "        vertical-align: top;\n",
       "    }\n",
       "\n",
       "    .dataframe thead th {\n",
       "        text-align: right;\n",
       "    }\n",
       "</style>\n",
       "<table border=\"1\" class=\"dataframe\">\n",
       "  <thead>\n",
       "    <tr style=\"text-align: right;\">\n",
       "      <th></th>\n",
       "      <th>pixel0</th>\n",
       "      <th>pixel1</th>\n",
       "      <th>pixel2</th>\n",
       "      <th>pixel3</th>\n",
       "      <th>pixel4</th>\n",
       "      <th>pixel5</th>\n",
       "      <th>pixel6</th>\n",
       "      <th>pixel7</th>\n",
       "      <th>pixel8</th>\n",
       "      <th>pixel9</th>\n",
       "      <th>...</th>\n",
       "      <th>pixel774</th>\n",
       "      <th>pixel775</th>\n",
       "      <th>pixel776</th>\n",
       "      <th>pixel777</th>\n",
       "      <th>pixel778</th>\n",
       "      <th>pixel779</th>\n",
       "      <th>pixel780</th>\n",
       "      <th>pixel781</th>\n",
       "      <th>pixel782</th>\n",
       "      <th>pixel783</th>\n",
       "    </tr>\n",
       "  </thead>\n",
       "  <tbody>\n",
       "    <tr>\n",
       "      <th>0</th>\n",
       "      <td>0</td>\n",
       "      <td>0</td>\n",
       "      <td>0</td>\n",
       "      <td>0</td>\n",
       "      <td>0</td>\n",
       "      <td>0</td>\n",
       "      <td>0</td>\n",
       "      <td>0</td>\n",
       "      <td>0</td>\n",
       "      <td>0</td>\n",
       "      <td>...</td>\n",
       "      <td>0</td>\n",
       "      <td>0</td>\n",
       "      <td>0</td>\n",
       "      <td>0</td>\n",
       "      <td>0</td>\n",
       "      <td>0</td>\n",
       "      <td>0</td>\n",
       "      <td>0</td>\n",
       "      <td>0</td>\n",
       "      <td>0</td>\n",
       "    </tr>\n",
       "    <tr>\n",
       "      <th>1</th>\n",
       "      <td>0</td>\n",
       "      <td>0</td>\n",
       "      <td>0</td>\n",
       "      <td>0</td>\n",
       "      <td>0</td>\n",
       "      <td>0</td>\n",
       "      <td>0</td>\n",
       "      <td>0</td>\n",
       "      <td>0</td>\n",
       "      <td>0</td>\n",
       "      <td>...</td>\n",
       "      <td>0</td>\n",
       "      <td>0</td>\n",
       "      <td>0</td>\n",
       "      <td>0</td>\n",
       "      <td>0</td>\n",
       "      <td>0</td>\n",
       "      <td>0</td>\n",
       "      <td>0</td>\n",
       "      <td>0</td>\n",
       "      <td>0</td>\n",
       "    </tr>\n",
       "    <tr>\n",
       "      <th>2</th>\n",
       "      <td>0</td>\n",
       "      <td>0</td>\n",
       "      <td>0</td>\n",
       "      <td>0</td>\n",
       "      <td>0</td>\n",
       "      <td>0</td>\n",
       "      <td>0</td>\n",
       "      <td>0</td>\n",
       "      <td>0</td>\n",
       "      <td>0</td>\n",
       "      <td>...</td>\n",
       "      <td>0</td>\n",
       "      <td>0</td>\n",
       "      <td>0</td>\n",
       "      <td>0</td>\n",
       "      <td>0</td>\n",
       "      <td>0</td>\n",
       "      <td>0</td>\n",
       "      <td>0</td>\n",
       "      <td>0</td>\n",
       "      <td>0</td>\n",
       "    </tr>\n",
       "    <tr>\n",
       "      <th>3</th>\n",
       "      <td>0</td>\n",
       "      <td>0</td>\n",
       "      <td>0</td>\n",
       "      <td>0</td>\n",
       "      <td>0</td>\n",
       "      <td>0</td>\n",
       "      <td>0</td>\n",
       "      <td>0</td>\n",
       "      <td>0</td>\n",
       "      <td>0</td>\n",
       "      <td>...</td>\n",
       "      <td>0</td>\n",
       "      <td>0</td>\n",
       "      <td>0</td>\n",
       "      <td>0</td>\n",
       "      <td>0</td>\n",
       "      <td>0</td>\n",
       "      <td>0</td>\n",
       "      <td>0</td>\n",
       "      <td>0</td>\n",
       "      <td>0</td>\n",
       "    </tr>\n",
       "    <tr>\n",
       "      <th>4</th>\n",
       "      <td>0</td>\n",
       "      <td>0</td>\n",
       "      <td>0</td>\n",
       "      <td>0</td>\n",
       "      <td>0</td>\n",
       "      <td>0</td>\n",
       "      <td>0</td>\n",
       "      <td>0</td>\n",
       "      <td>0</td>\n",
       "      <td>0</td>\n",
       "      <td>...</td>\n",
       "      <td>0</td>\n",
       "      <td>0</td>\n",
       "      <td>0</td>\n",
       "      <td>0</td>\n",
       "      <td>0</td>\n",
       "      <td>0</td>\n",
       "      <td>0</td>\n",
       "      <td>0</td>\n",
       "      <td>0</td>\n",
       "      <td>0</td>\n",
       "    </tr>\n",
       "  </tbody>\n",
       "</table>\n",
       "<p>5 rows × 784 columns</p>\n",
       "</div>"
      ],
      "text/plain": [
       "   pixel0  pixel1  pixel2  pixel3  pixel4  pixel5  pixel6  pixel7  pixel8  \\\n",
       "0       0       0       0       0       0       0       0       0       0   \n",
       "1       0       0       0       0       0       0       0       0       0   \n",
       "2       0       0       0       0       0       0       0       0       0   \n",
       "3       0       0       0       0       0       0       0       0       0   \n",
       "4       0       0       0       0       0       0       0       0       0   \n",
       "\n",
       "   pixel9  ...  pixel774  pixel775  pixel776  pixel777  pixel778  pixel779  \\\n",
       "0       0  ...         0         0         0         0         0         0   \n",
       "1       0  ...         0         0         0         0         0         0   \n",
       "2       0  ...         0         0         0         0         0         0   \n",
       "3       0  ...         0         0         0         0         0         0   \n",
       "4       0  ...         0         0         0         0         0         0   \n",
       "\n",
       "   pixel780  pixel781  pixel782  pixel783  \n",
       "0         0         0         0         0  \n",
       "1         0         0         0         0  \n",
       "2         0         0         0         0  \n",
       "3         0         0         0         0  \n",
       "4         0         0         0         0  \n",
       "\n",
       "[5 rows x 784 columns]"
      ]
     },
<<<<<<< HEAD
     "execution_count": 224,
=======
     "execution_count": 3,
>>>>>>> master
     "metadata": {},
     "output_type": "execute_result"
    }
   ],
   "source": [
    "testingDigits.head()"
   ]
  },
  {
   "cell_type": "markdown",
   "metadata": {},
   "source": [
    "Our data looks *very* strange, but the Kaggle page has some insight: <br/><br/> It appears data is encoded to where each pixel gets its own column and they are arranged left to right top to bottom. For reference: <br/> 000 001 002 003 ... 027 <br/> 028 030 031 032 ... 055 <br/> and et cetera. In other words, “x = i * 28 + j” (From the page explaining the decomposition of a pixel x.) <br/><br/>\n",
    "\tEach pixel has a lightness/darkness value ranging from 0 to 255, inclusive, which, when put together creates a grayscale image of a digit. The dataset does not contain any actual images of the data which means to view them we will write a parser. Some sample images look like this:\n"
   ]
  },
  {
   "cell_type": "markdown",
   "metadata": {},
   "source": [
    "![title](img/MnistExamples.png)"
   ]
  },
  {
   "cell_type": "markdown",
   "metadata": {},
   "source": [
    "Let's try and gain what we can from our data before we start working. We should find the proportions of the different numbers, as well as attempt to parse some individual columns. Matplotlib and Seaborn can help with those."
   ]
  },
  {
   "cell_type": "code",
<<<<<<< HEAD
   "execution_count": 225,
=======
   "execution_count": 4,
>>>>>>> master
   "metadata": {},
   "outputs": [
    {
     "data": {
      "image/png": "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\n",
      "text/plain": [
       "<Figure size 432x288 with 1 Axes>"
      ]
     },
     "metadata": {},
     "output_type": "display_data"
    }
   ],
   "source": [
    "import seaborn as sns\n",
    "import matplotlib.pyplot as plt\n",
    "%matplotlib inline\n",
    "\n",
    "sns.set(style=\"darkgrid\")\n",
    "proportionsAx = sns.countplot(x=\"label\", data=trainingDigits)"
   ]
  },
  {
   "cell_type": "markdown",
   "metadata": {},
   "source": [
    "Looks like all the numbers are represented pretty equally. There are a lot of 1s, though, and not quite as many 5s. Later, when we get predictions, we will see if more training data of a particular number improves that number's recognition. <br/> <br/> Let's get our data prepped.  <br/> <br/> "
   ]
  },
  {
   "cell_type": "code",
<<<<<<< HEAD
   "execution_count": 226,
=======
   "execution_count": 5,
>>>>>>> master
   "metadata": {},
   "outputs": [
    {
     "data": {
      "text/html": [
       "<div>\n",
       "<style scoped>\n",
       "    .dataframe tbody tr th:only-of-type {\n",
       "        vertical-align: middle;\n",
       "    }\n",
       "\n",
       "    .dataframe tbody tr th {\n",
       "        vertical-align: top;\n",
       "    }\n",
       "\n",
       "    .dataframe thead th {\n",
       "        text-align: right;\n",
       "    }\n",
       "</style>\n",
       "<table border=\"1\" class=\"dataframe\">\n",
       "  <thead>\n",
       "    <tr style=\"text-align: right;\">\n",
       "      <th></th>\n",
       "      <th>pixel0</th>\n",
       "      <th>pixel1</th>\n",
       "      <th>pixel2</th>\n",
       "      <th>pixel3</th>\n",
       "      <th>pixel4</th>\n",
       "      <th>pixel5</th>\n",
       "      <th>pixel6</th>\n",
       "      <th>pixel7</th>\n",
       "      <th>pixel8</th>\n",
       "      <th>pixel9</th>\n",
       "      <th>...</th>\n",
       "      <th>pixel774</th>\n",
       "      <th>pixel775</th>\n",
       "      <th>pixel776</th>\n",
       "      <th>pixel777</th>\n",
       "      <th>pixel778</th>\n",
       "      <th>pixel779</th>\n",
       "      <th>pixel780</th>\n",
       "      <th>pixel781</th>\n",
       "      <th>pixel782</th>\n",
       "      <th>pixel783</th>\n",
       "    </tr>\n",
       "  </thead>\n",
       "  <tbody>\n",
       "    <tr>\n",
       "      <th>0</th>\n",
       "      <td>0</td>\n",
       "      <td>0</td>\n",
       "      <td>0</td>\n",
       "      <td>0</td>\n",
       "      <td>0</td>\n",
       "      <td>0</td>\n",
       "      <td>0</td>\n",
       "      <td>0</td>\n",
       "      <td>0</td>\n",
       "      <td>0</td>\n",
       "      <td>...</td>\n",
       "      <td>0</td>\n",
       "      <td>0</td>\n",
       "      <td>0</td>\n",
       "      <td>0</td>\n",
       "      <td>0</td>\n",
       "      <td>0</td>\n",
       "      <td>0</td>\n",
       "      <td>0</td>\n",
       "      <td>0</td>\n",
       "      <td>0</td>\n",
       "    </tr>\n",
       "    <tr>\n",
       "      <th>1</th>\n",
       "      <td>0</td>\n",
       "      <td>0</td>\n",
       "      <td>0</td>\n",
       "      <td>0</td>\n",
       "      <td>0</td>\n",
       "      <td>0</td>\n",
       "      <td>0</td>\n",
       "      <td>0</td>\n",
       "      <td>0</td>\n",
       "      <td>0</td>\n",
       "      <td>...</td>\n",
       "      <td>0</td>\n",
       "      <td>0</td>\n",
       "      <td>0</td>\n",
       "      <td>0</td>\n",
       "      <td>0</td>\n",
       "      <td>0</td>\n",
       "      <td>0</td>\n",
       "      <td>0</td>\n",
       "      <td>0</td>\n",
       "      <td>0</td>\n",
       "    </tr>\n",
       "    <tr>\n",
       "      <th>2</th>\n",
       "      <td>0</td>\n",
       "      <td>0</td>\n",
       "      <td>0</td>\n",
       "      <td>0</td>\n",
       "      <td>0</td>\n",
       "      <td>0</td>\n",
       "      <td>0</td>\n",
       "      <td>0</td>\n",
       "      <td>0</td>\n",
       "      <td>0</td>\n",
       "      <td>...</td>\n",
       "      <td>0</td>\n",
       "      <td>0</td>\n",
       "      <td>0</td>\n",
       "      <td>0</td>\n",
       "      <td>0</td>\n",
       "      <td>0</td>\n",
       "      <td>0</td>\n",
       "      <td>0</td>\n",
       "      <td>0</td>\n",
       "      <td>0</td>\n",
       "    </tr>\n",
       "    <tr>\n",
       "      <th>3</th>\n",
       "      <td>0</td>\n",
       "      <td>0</td>\n",
       "      <td>0</td>\n",
       "      <td>0</td>\n",
       "      <td>0</td>\n",
       "      <td>0</td>\n",
       "      <td>0</td>\n",
       "      <td>0</td>\n",
       "      <td>0</td>\n",
       "      <td>0</td>\n",
       "      <td>...</td>\n",
       "      <td>0</td>\n",
       "      <td>0</td>\n",
       "      <td>0</td>\n",
       "      <td>0</td>\n",
       "      <td>0</td>\n",
       "      <td>0</td>\n",
       "      <td>0</td>\n",
       "      <td>0</td>\n",
       "      <td>0</td>\n",
       "      <td>0</td>\n",
       "    </tr>\n",
       "    <tr>\n",
       "      <th>4</th>\n",
       "      <td>0</td>\n",
       "      <td>0</td>\n",
       "      <td>0</td>\n",
       "      <td>0</td>\n",
       "      <td>0</td>\n",
       "      <td>0</td>\n",
       "      <td>0</td>\n",
       "      <td>0</td>\n",
       "      <td>0</td>\n",
       "      <td>0</td>\n",
       "      <td>...</td>\n",
       "      <td>0</td>\n",
       "      <td>0</td>\n",
       "      <td>0</td>\n",
       "      <td>0</td>\n",
       "      <td>0</td>\n",
       "      <td>0</td>\n",
       "      <td>0</td>\n",
       "      <td>0</td>\n",
       "      <td>0</td>\n",
       "      <td>0</td>\n",
       "    </tr>\n",
       "  </tbody>\n",
       "</table>\n",
       "<p>5 rows × 784 columns</p>\n",
       "</div>"
      ],
      "text/plain": [
       "   pixel0  pixel1  pixel2  pixel3  pixel4  pixel5  pixel6  pixel7  pixel8  \\\n",
       "0       0       0       0       0       0       0       0       0       0   \n",
       "1       0       0       0       0       0       0       0       0       0   \n",
       "2       0       0       0       0       0       0       0       0       0   \n",
       "3       0       0       0       0       0       0       0       0       0   \n",
       "4       0       0       0       0       0       0       0       0       0   \n",
       "\n",
       "   pixel9  ...  pixel774  pixel775  pixel776  pixel777  pixel778  pixel779  \\\n",
       "0       0  ...         0         0         0         0         0         0   \n",
       "1       0  ...         0         0         0         0         0         0   \n",
       "2       0  ...         0         0         0         0         0         0   \n",
       "3       0  ...         0         0         0         0         0         0   \n",
       "4       0  ...         0         0         0         0         0         0   \n",
       "\n",
       "   pixel780  pixel781  pixel782  pixel783  \n",
       "0         0         0         0         0  \n",
       "1         0         0         0         0  \n",
       "2         0         0         0         0  \n",
       "3         0         0         0         0  \n",
       "4         0         0         0         0  \n",
       "\n",
       "[5 rows x 784 columns]"
      ]
     },
<<<<<<< HEAD
     "execution_count": 226,
=======
     "execution_count": 5,
>>>>>>> master
     "metadata": {},
     "output_type": "execute_result"
    }
   ],
   "source": [
    "X_train = trainingDigits.drop(labels = [\"label\"], axis=1)\n",
    "X_train.head()"
   ]
  },
  {
   "cell_type": "code",
<<<<<<< HEAD
   "execution_count": 227,
=======
   "execution_count": 8,
>>>>>>> master
   "metadata": {},
   "outputs": [
    {
     "data": {
      "text/plain": [
       "0    1\n",
       "1    0\n",
       "2    1\n",
       "3    4\n",
       "4    0\n",
       "Name: label, dtype: int64"
      ]
     },
<<<<<<< HEAD
     "execution_count": 227,
=======
     "execution_count": 8,
>>>>>>> master
     "metadata": {},
     "output_type": "execute_result"
    }
   ],
   "source": [
    "y_train = trainingDigits[\"label\"]\n",
    "y_train.head()"
   ]
  },
  {
   "cell_type": "markdown",
   "metadata": {},
   "source": [
    "We can also double-check for missing data here."
   ]
  },
  {
   "cell_type": "code",
<<<<<<< HEAD
   "execution_count": 228,
=======
   "execution_count": 9,
>>>>>>> master
   "metadata": {},
   "outputs": [
    {
     "name": "stdout",
     "output_type": "stream",
     "text": [
      "Presence of missing data on inputs: False\n",
      "Presence of missing data on targets: False\n"
     ]
    }
   ],
   "source": [
    "print(\"Presence of missing data on inputs: \" + str(X_train.isnull().values.any()) + \"\\nPresence of missing data on targets: \" + str(y_train.isnull().values.any()))"
   ]
  },
  {
   "cell_type": "markdown",
   "metadata": {},
   "source": [
    "Then we will use matplotlib and some data manipulation to convert each row into a list of 28x28 matrices of pixel data (much more easily read). "
   ]
  },
  {
   "cell_type": "code",
<<<<<<< HEAD
   "execution_count": 229,
   "metadata": {},
   "outputs": [
    {
     "data": {
      "text/plain": [
       "(42000, 28, 28, 1)"
      ]
     },
     "execution_count": 229,
     "metadata": {},
     "output_type": "execute_result"
    }
   ],
=======
   "execution_count": null,
   "metadata": {},
   "outputs": [],
>>>>>>> master
   "source": [
    "import numpy as np\n",
    "X_train = X_train.values.reshape(-1,28,28,1)\n",
    "X_train.shape"
   ]
  },
  {
   "cell_type": "markdown",
   "metadata": {},
   "source": [
    "Perfect. These newly created arrays are actually natively compatible with imshow offered by matplotlib. Using some sublots and a bit of iteration, we can regenerate a portion of the data as images to see exactly what we're working with. <br/> <br/>"
   ]
  },
  {
   "cell_type": "code",
<<<<<<< HEAD
   "execution_count": 230,
   "metadata": {},
   "outputs": [
    {
     "data": {
      "image/png": "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\n",
      "text/plain": [
       "<Figure size 432x288 with 16 Axes>"
      ]
     },
     "metadata": {},
     "output_type": "display_data"
    }
   ],
=======
   "execution_count": null,
   "metadata": {},
   "outputs": [],
>>>>>>> master
   "source": [
    "plt.rcParams[\"axes.grid\"] #remove gridlines\n",
    "fig, ax = plt.subplots(nrows=4, ncols=4)\n",
    "index = 0\n",
    "for row in ax:\n",
    "    for col in row:\n",
    "        col.imshow(X_train[index][:,:,0], cmap=\"Greys\")\n",
    "        index += 1"
   ]
  },
  {
   "cell_type": "markdown",
   "metadata": {},
   "source": [
    "Notice the numbers (generated left to right top to bottom) match the \"label\" portion of the data below. This means we are on track."
   ]
  },
  {
   "cell_type": "code",
<<<<<<< HEAD
   "execution_count": 231,
=======
   "execution_count": 11,
>>>>>>> master
   "metadata": {},
   "outputs": [
    {
     "data": {
      "text/plain": [
       "0     1\n",
       "1     0\n",
       "2     1\n",
       "3     4\n",
       "4     0\n",
       "5     0\n",
       "6     7\n",
       "7     3\n",
       "8     5\n",
       "9     3\n",
       "10    8\n",
       "11    9\n",
       "12    1\n",
       "13    3\n",
       "14    3\n",
       "15    1\n",
       "Name: label, dtype: int64"
      ]
     },
<<<<<<< HEAD
     "execution_count": 231,
=======
     "execution_count": 11,
>>>>>>> master
     "metadata": {},
     "output_type": "execute_result"
    }
   ],
   "source": [
    "y_train[:16]"
   ]
  },
  {
   "cell_type": "markdown",
   "metadata": {},
   "source": [
    "As it stands, the target numbers are stored as 0-9, but this is technically categorical data. To make the data more readable, we use a process called one hot encoding, which transforms the categories (of which there are 10) into a 1x10 matrix where each target has a single 1 in it corresponding to which number it is. Encoding the number 0 looks like this:  <br/> <br/> [1,0,0,0,0,0,0,0,0,0]  <br/> <br/> The number 1 looks like: <br/> <br/> [0,1,0,0,0,0,0,0,0,0] <br/> <br/> And so on for each piece of data in the \"label\" column. <br/> <br/> The reason we do this isn't as obvious here, but it's more obvious when you use text based categories. If a sample target was classifying cars, and Honda Civic was 1, Mini Cooper was 2, and a Punchbuggy was 3, the network may incorrectly build the idea that a Civic is closer to a Cooper than a Punchbuggy. One hot encoding the data ensures that the related nature of the data is preserved, but not the numerical aspects. <br/> <br/> Below the data is encoded. Keras is a very powerful library for deep learning which runs on top of TensorFlow. to_categorical() is a utility function that automatically encodes the data provided a target dataset and the amount of categories."
   ]
  },
  {
   "cell_type": "code",
<<<<<<< HEAD
   "execution_count": 232,
=======
   "execution_count": 10,
>>>>>>> master
   "metadata": {},
   "outputs": [],
   "source": [
    "from keras.utils import to_categorical\n",
    "y_train = to_categorical(y_train, num_classes = 10)"
   ]
  },
  {
<<<<<<< HEAD
   "cell_type": "code",
   "execution_count": 234,
   "metadata": {},
   "outputs": [
    {
     "name": "stdout",
     "output_type": "stream",
     "text": [
      "[0. 1. 0. 0. 0. 0. 0. 0. 0. 0.]\n"
     ]
    }
   ],
   "source": [
    "print(y_train[0])"
   ]
  },
  {
   "cell_type": "markdown",
   "metadata": {},
   "source": [
    "We'll also need to set up our testing data. This is done with a standard train-test split (the test.csv file doesn't actually have any answers in it). First we'll check the data looks right, then we'll split it 80/20 training/testing."
   ]
=======
   "cell_type": "markdown",
   "metadata": {},
   "source": []
>>>>>>> master
  },
  {
   "cell_type": "code",
   "execution_count": 239,
   "metadata": {},
   "outputs": [
    {
     "name": "stdout",
     "output_type": "stream",
     "text": [
      "[[  0   0   0   0   0   0   0   0   0   0   0   0   0   0   0   0   0   0\n",
      "    0   0   0   0   0   0   0   0   0   0]\n",
      " [  0   0   0   0   0   0   0   0   0   0   0   0   0   0   0   0   0   0\n",
      "    0   0   0   0   0   0   0   0   0   0]\n",
      " [  0   0   0   0   0   0   0   0   0   0   0   0   0   0   0   0   0   0\n",
      "    0   0   0   0   0   0   0   0   0   0]\n",
      " [  0   0   0   0   0   0   0   0   0   0   0   0   0   0   0   0   0   0\n",
      "    0   0   0   0   0   0   0   0   0   0]\n",
      " [  0   0   0   0   0   0   0   0   0   0   0   0   0   0   0   0   0   0\n",
      "    0   0 188 255  94   0   0   0   0   0]\n",
      " [  0   0   0   0   0   0   0   0   0   0   0   0   0   0   0   0   0   0\n",
      "    0 191 250 253  93   0   0   0   0   0]\n",
      " [  0   0   0   0   0   0   0   0   0   0   0   0   0   0   0   0   0   0\n",
      "  123 248 253 167  10   0   0   0   0   0]\n",
      " [  0   0   0   0   0   0   0   0   0   0   0   0   0   0   0   0   0  80\n",
      "  247 253 208  13   0   0   0   0   0   0]\n",
      " [  0   0   0   0   0   0   0   0   0   0   0   0   0   0   0   0  29 207\n",
      "  253 235  77   0   0   0   0   0   0   0]\n",
      " [  0   0   0   0   0   0   0   0   0   0   0   0   0   0   0  54 209 253\n",
      "  253  88   0   0   0   0   0   0   0   0]\n",
      " [  0   0   0   0   0   0   0   0   0   0   0   0   0   0  93 254 253 238\n",
      "  170  17   0   0   0   0   0   0   0   0]\n",
      " [  0   0   0   0   0   0   0   0   0   0   0   0   0  23 210 254 253 159\n",
      "    0   0   0   0   0   0   0   0   0   0]\n",
      " [  0   0   0   0   0   0   0   0   0   0   0   0  16 209 253 254 240  81\n",
      "    0   0   0   0   0   0   0   0   0   0]\n",
      " [  0   0   0   0   0   0   0   0   0   0   0   0  27 253 253 254  13   0\n",
      "    0   0   0   0   0   0   0   0   0   0]\n",
      " [  0   0   0   0   0   0   0   0   0   0   0  20 206 254 254 198   7   0\n",
      "    0   0   0   0   0   0   0   0   0   0]\n",
      " [  0   0   0   0   0   0   0   0   0   0   0 168 253 253 196   7   0   0\n",
      "    0   0   0   0   0   0   0   0   0   0]\n",
      " [  0   0   0   0   0   0   0   0   0   0  20 203 253 248  76   0   0   0\n",
      "    0   0   0   0   0   0   0   0   0   0]\n",
      " [  0   0   0   0   0   0   0   0   0  22 188 253 245  93   0   0   0   0\n",
      "    0   0   0   0   0   0   0   0   0   0]\n",
      " [  0   0   0   0   0   0   0   0   0 103 253 253 191   0   0   0   0   0\n",
      "    0   0   0   0   0   0   0   0   0   0]\n",
      " [  0   0   0   0   0   0   0   0  89 240 253 195  25   0   0   0   0   0\n",
      "    0   0   0   0   0   0   0   0   0   0]\n",
      " [  0   0   0   0   0   0   0  15 220 253 253  80   0   0   0   0   0   0\n",
      "    0   0   0   0   0   0   0   0   0   0]\n",
      " [  0   0   0   0   0   0   0  94 253 253 253  94   0   0   0   0   0   0\n",
      "    0   0   0   0   0   0   0   0   0   0]\n",
      " [  0   0   0   0   0   0   0  89 251 253 250 131   0   0   0   0   0   0\n",
      "    0   0   0   0   0   0   0   0   0   0]\n",
      " [  0   0   0   0   0   0   0   0 214 218  95   0   0   0   0   0   0   0\n",
      "    0   0   0   0   0   0   0   0   0   0]\n",
      " [  0   0   0   0   0   0   0   0   0   0   0   0   0   0   0   0   0   0\n",
      "    0   0   0   0   0   0   0   0   0   0]\n",
      " [  0   0   0   0   0   0   0   0   0   0   0   0   0   0   0   0   0   0\n",
      "    0   0   0   0   0   0   0   0   0   0]\n",
      " [  0   0   0   0   0   0   0   0   0   0   0   0   0   0   0   0   0   0\n",
      "    0   0   0   0   0   0   0   0   0   0]\n",
      " [  0   0   0   0   0   0   0   0   0   0   0   0   0   0   0   0   0   0\n",
      "    0   0   0   0   0   0   0   0   0   0]]\n",
      "[0. 1. 0. 0. 0. 0. 0. 0. 0. 0.]\n"
     ]
    }
   ],
   "source": [
    "print(X_train[0][:,:,0])\n",
    "print(y_train[0])"
   ]
  },
  {
   "cell_type": "markdown",
   "metadata": {},
   "source": [
    "Looks good. Splitting: <br/> <br/>"
   ]
  },
  {
   "cell_type": "code",
   "execution_count": 243,
   "metadata": {},
   "outputs": [],
   "source": [
    "X_train, X_test, y_train, y_test = train_test_split(X_train, y_train, test_size = 0.2, random_state=5292002)"
   ]
  },
  {
   "cell_type": "code",
   "execution_count": 250,
   "metadata": {},
   "outputs": [
    {
     "name": "stdout",
     "output_type": "stream",
     "text": [
      "[[  0   0   0   0   0   0   0   0   0   0   0   0   0   0   0   0   0   0\n",
      "    0   0   0   0   0   0   0   0   0   0]\n",
      " [  0   0   0   0   0   0   0   0   0   0   0   0   0   0   0   0   0   0\n",
      "    0   0   0   0   0   0   0   0   0   0]\n",
      " [  0   0   0   0   0   0   0   0   0   0   0   0   0   0   0   0   0   0\n",
      "    0   0   0   0   0   0   0   0   0   0]\n",
      " [  0   0   0   0   0   0   0   0   0   0   0   0   0   0   0   0   0   0\n",
      "    0   0   0   0   0   0   0   0   0   0]\n",
      " [  0   0   0   0   0   0   0   0   0   0   0   0   0   0   0   0   0   0\n",
      "    0   0   0   0   0   0   0   0   0   0]\n",
      " [  0   0   0   0   0   0   0   0   0   0   0   0   0   0   0   0   0   0\n",
      "    0   0   0   0   0   0   0   0   0   0]\n",
      " [  0   0   0   0   0   0   0   0   0   0   0   0   0   0  69 153 238 217\n",
      "   40   0   0   0   0   0   0   0   0   0]\n",
      " [  0   0   0   0   0   0   0   0   0   0   0   0  15 166 254 244 176 238\n",
      "   87   0   0   0   0   0   0   0   0   0]\n",
      " [  0   0   0   0   0   0   0   0   0   0   0  41 225 254 180  53   0 199\n",
      "  146   0   0   0   0   0   0   0   0   0]\n",
      " [  0   0   0   0   0   0   0   0   0   0  82 239 254 151  17   0   0  10\n",
      "    7   0   0   0   0   0   0   0   0   0]\n",
      " [  0   0   0   0   0   0   0   0   0  59 244 241  69   3   0   0   0   7\n",
      "   60   0   0   0   0   0   0   0   0   0]\n",
      " [  0   0   0   0   0   0   0   0  16 232 241  37   0   0   0   0   8 198\n",
      "  253  59   0   0   0   0   0   0   0   0]\n",
      " [  0   0   0   0   0   0   0   0 114 254 130   0   0   0   0   8 168 254\n",
      "  254  65   0   0   0   0   0   0   0   0]\n",
      " [  0   0   0   0   0   0   0   0 151 254  61   0   0   0  44 138 220 224\n",
      "  254  65   0   0   0   0   0   0   0   0]\n",
      " [  0   0   0   0   0   0   0   0  65 251 247 144 134 208 242 195  36 199\n",
      "  254  65   0   0   0   0   0   0   0   0]\n",
      " [  0   0   0   0   0   0   0   0   0  86 203 211 211 167  47   0  41 246\n",
      "  221  10   0   0   0   0   0   0   0   0]\n",
      " [  0   0   0   0   0   0   0   0   0   0   0   0   0   0   0   0 159 254\n",
      "  133   0   0   0   0   0   0   0   0   0]\n",
      " [  0   0   0   0   0   0   0   0   0   0   0   0   0   0   0   0 203 254\n",
      "   60   0   0   0   0   0   0   0   0   0]\n",
      " [  0   0   0   0   0   0   0   0   0   0   0   0   0   0   0  16 227 243\n",
      "   33   0   0   0   0   0   0   0   0   0]\n",
      " [  0   0   0   0   0   0   0   0   0   0   0   0   0   0   0 112 254 220\n",
      "    0   0   0   0   0   0   0   0   0   0]\n",
      " [  0   0   0   0   0   0   0   0   0   0   0   0   0   0   0 208 254 134\n",
      "    0   0   0   0   0   0   0   0   0   0]\n",
      " [  0   0   0   0   0   0   0   0   0   0   0   0   0   0  16 227 252  52\n",
      "    0   0   0   0   0   0   0   0   0   0]\n",
      " [  0   0   0   0   0   0   0   0   0   0   0   0   0   0 136 254 220   0\n",
      "    0   0   0   0   0   0   0   0   0   0]\n",
      " [  0   0   0   0   0   0   0   0   0   0   0   0   0   0 212 255  76   0\n",
      "    0   0   0   0   0   0   0   0   0   0]\n",
      " [  0   0   0   0   0   0   0   0   0   0   0   0   0  31 242 242  33   0\n",
      "    0   0   0   0   0   0   0   0   0   0]\n",
      " [  0   0   0   0   0   0   0   0   0   0   0   0   0  14 226 161   0   0\n",
      "    0   0   0   0   0   0   0   0   0   0]\n",
      " [  0   0   0   0   0   0   0   0   0   0   0   0   0   0   0   0   0   0\n",
      "    0   0   0   0   0   0   0   0   0   0]\n",
      " [  0   0   0   0   0   0   0   0   0   0   0   0   0   0   0   0   0   0\n",
      "    0   0   0   0   0   0   0   0   0   0]]\n",
      "\n",
      "[0. 0. 0. 0. 0. 0. 0. 0. 0. 1.]\n",
      "\n",
      "[[  0   0   0   0   0   0   0   0   0   0   0   0   0   0   0   0   0   0\n",
      "    0   0   0   0   0   0   0   0   0   0]\n",
      " [  0   0   0   0   0   0   0   0   0   0   0   0   0   0   0   0   0   0\n",
      "    0   0   0   0   0   0   0   0   0   0]\n",
      " [  0   0   0   0   0   0   0   0   0   0   0   0   0   0   0   0   0   0\n",
      "    0   0   0   0   0   0   0   0   0   0]\n",
      " [  0   0   0   0   0   0   0   0   0   0   0   0   0   0   0   0   0   0\n",
      "    0   0   0   0   0   0   0   0   0   0]\n",
      " [  0   0   0   0   0   0   0   0   0   0   0   0   0   0   0   0   0   0\n",
      "    0   0   0   0   0   0   0   0   0   0]\n",
      " [  0   0   0   0   0   0   0   0   0  13 108 191 219 254 254 255 205  85\n",
      "    0   0   0   0   0   0   0   0   0   0]\n",
      " [  0   0   0   0   0   0   0   0  54 224 253 253 253 220 243 254 253 252\n",
      "  124   0   0   0   0   0   0   0   0   0]\n",
      " [  0   0   0   0   0   0   0  43 234 253 238  84  56   9  42  56  70 226\n",
      "  236  56   0   0   0   0   0   0   0   0]\n",
      " [  0   0   0   0   0   0   0  73 253 193  16   0   0   0   0   0  12 182\n",
      "  253 143   0   0   0   0   0   0   0   0]\n",
      " [  0   0   0   0   0   0   0  85 195  15   0   0   0   0   0   0  91 253\n",
      "  253  60   0   0   0   0   0   0   0   0]\n",
      " [  0   0   0   0   0   0   0   0  18   0   0   0   0   0   0  72 220 253\n",
      "  184   4   0   0   0   0   0   0   0   0]\n",
      " [  0   0   0   0   0   0   0   0   0   0   0   0   0  10  85 226 253 218\n",
      "   56   0   0   0   0   0   0   0   0   0]\n",
      " [  0   0   0   0   0   0   0   0   0   0   0  19 147 231 253 254 253 172\n",
      "   19   0   0   0   0   0   0   0   0   0]\n",
      " [  0   0   0   0   0   0   0  23  57 123 199 228 253 253 253 254 253 253\n",
      "  228 216  96   0   0   0   0   0   0   0]\n",
      " [  0   0   0   0   0   0  98 238 253 253 253 253 232 148  65 125 159 159\n",
      "  187 253 248 156  39   0   0   0   0   0]\n",
      " [  0   0   0   0   0   0 167 254 254 254 200  91   0   0   0   0   0   0\n",
      "    0  53 175 254 233  83   0   0   0   0]\n",
      " [  0   0   0   0   0   0 147 215 187  69   5   0   0   0   0   0   0   0\n",
      "    0   0  19 253 253  47   0   0   0   0]\n",
      " [  0   0   0   0   0   0   0   0   0   0   0   0   0   0   0   0   0   0\n",
      "    0   0  61 253 253  37   0   0   0   0]\n",
      " [  0   0   0   0   0   0   0   0   0   0   0   0   0   0   0   0   0   0\n",
      "    0  32 237 253 215  13   0   0   0   0]\n",
      " [  0   0   0   0   0   0   0   0   0   0   0   0   0   0   0   0   0   0\n",
      "   28 193 253 253  75   0   0   0   0   0]\n",
      " [  0   0   0   0   0   0   0   0   0   0   0   0   0   0   0   0  10  96\n",
      "  207 249 251 136  19   0   0   0   0   0]\n",
      " [  0   0   0   0   0   0   0   0   0   0   0   0   0   0  32 144 217 253\n",
      "  253 253 136   0   0   0   0   0   0   0]\n",
      " [  0   0   0   0   0   0   0  66 244 244 237 217 153 231 247 254 253 209\n",
      "  168  86   2   0   0   0   0   0   0   0]\n",
      " [  0   0   0   0   0   0   0  69 253 253 253 253 253 253 253 201 130  29\n",
      "    0   0   0   0   0   0   0   0   0   0]\n",
      " [  0   0   0   0   0   0   0  27 128 176 253 253 197 159  90   0   0   0\n",
      "    0   0   0   0   0   0   0   0   0   0]\n",
      " [  0   0   0   0   0   0   0   0   0   0   0   0   0   0   0   0   0   0\n",
      "    0   0   0   0   0   0   0   0   0   0]\n",
      " [  0   0   0   0   0   0   0   0   0   0   0   0   0   0   0   0   0   0\n",
      "    0   0   0   0   0   0   0   0   0   0]\n",
      " [  0   0   0   0   0   0   0   0   0   0   0   0   0   0   0   0   0   0\n",
      "    0   0   0   0   0   0   0   0   0   0]]\n",
      "\n",
      "[0. 0. 0. 1. 0. 0. 0. 0. 0. 0.]\n",
      "\n"
     ]
    }
   ],
   "source": [
    "print(str(X_train[0][:,:,0]) + \"\\n\")\n",
    "print(str(y_train[0]) + \"\\n\")\n",
    "print(str(X_test[0][:,:,0]) + \"\\n\")\n",
    "print(str(y_test[0]) + \"\\n\")"
   ]
  },
  {
   "cell_type": "markdown",
   "metadata": {},
   "source": [
    "With the input data reshaped and viewed, the target data encoded, and the data split up properly, the process of building and training the CNN can begin. <br/> <br/>"
   ]
  },
  {
   "cell_type": "code",
   "execution_count": 264,
   "metadata": {},
   "outputs": [],
   "source": [
    "import keras\n",
    "from keras.models import Sequential\n",
    "from keras.layers import Dense, Dropout, Flatten\n",
    "from keras.layers import Conv2D, MaxPooling2D"
   ]
  },
  {
   "cell_type": "code",
   "execution_count": 265,
   "metadata": {},
   "outputs": [],
   "source": [
    "model = Sequential()"
   ]
  },
  {
   "cell_type": "code",
   "execution_count": 268,
   "metadata": {},
   "outputs": [],
   "source": [
    "model.add(Conv2D(32, kernel_size=(3, 3), activation='relu', input_shape=(28, 28, 1)))\n",
    "model.add(Conv2D( 64, (3, 3), activation='relu'))\n",
    "model.add(MaxPooling2D(pool_size=(2, 2)))\n",
    "model.add(Dropout(rate = .75))\n",
    "model.add(Flatten())\n",
    "model.add(Dense(128, activation='relu'))\n",
    "model.add(Dropout(rate = .5))\n",
    "model.add(Dense(10, activation='softmax'))"
   ]
  },
  {
   "cell_type": "markdown",
   "metadata": {},
   "source": [
    "We begin by defining a network called model. This is a sequential model, which is a beginner friendly building-block style model. Layers are added input to output using .add(). <br/><br/> Conv2D are convolutional layers, defined by the amount of filters they have, their kernel size, activation function, and initially, input shape. <br/> **Filters** refers to \"slots\" for patterns. <br/> **Kernel size** refers to how large the convolvers are. In this case they're very small because our images are only 28x28. <br/> **Activation function** refers to how the neurons in the network are excited. <br/> **Input shape** (only at the beginning) refers to how the input data is shaped. In this case it's 28x28x1 because it's grayscale.<br/><br/>MaxPooling2D is a layer that abstracts the layer before it, assisting with avoiding overfitting, generalization of the information, and simplifies the network slightly. It also takes a size which affects how \"downsampled\" the data becomes.<br/><br/>Dropout is a layer where portions of the network are shut off for each iteration, preventing the network from overfitting and promoting new pathways. The rate refers to how much of the network remains operational. <br/><br/> Flatten simply converts higher dimensional data into lower dimensional data to approach the number of outputs.<br/><br/> Dense layers are the \"famous\" fully interconnected layers, with one of them being dropped out 50% each time. The final Dense layer output width is 10 for 10 classes. <br/><br/><br/>\n",
    "We then compile the model, which basically sets it up."
   ]
  },
  {
   "cell_type": "code",
   "execution_count": 269,
   "metadata": {},
   "outputs": [],
   "source": [
    "model.compile(loss=keras.losses.categorical_crossentropy,\n",
    "              optimizer=keras.optimizers.Adadelta(),\n",
    "              metrics=['acc', 'mse'])"
   ]
  },
  {
   "cell_type": "markdown",
   "metadata": {},
   "source": [
    "Compiling the network finalizes it by giving it a loss function, and an optimization algorithm. The loss function determines how to score it's decisions, and the optimizer determines how it will teach itself. For now we choose some general ones that work for categorical classification. <br/><br/><br/>Next we start running our model!"
   ]
  },
  {
   "cell_type": "code",
   "execution_count": null,
   "metadata": {},
   "outputs": [],
   "source": [
    "model.fit(X_train, y_train,\n",
    "          batch_size=batch_size,\n",
    "          epochs=epochs,\n",
    "          verbose=1,\n",
    "          validation_data=(x_test, y_test))"
   ]
  },
  {
   "cell_type": "code",
   "execution_count": null,
   "metadata": {},
   "outputs": [],
   "source": []
  },
  {
   "cell_type": "code",
   "execution_count": null,
   "metadata": {},
   "outputs": [],
   "source": []
  },
  {
   "cell_type": "code",
   "execution_count": null,
   "metadata": {},
   "outputs": [],
   "source": []
  },
  {
   "cell_type": "code",
   "execution_count": null,
   "metadata": {},
   "outputs": [],
   "source": []
  },
  {
   "cell_type": "code",
   "execution_count": null,
   "metadata": {},
   "outputs": [],
   "source": []
  }
 ],
 "metadata": {
  "kernelspec": {
   "display_name": "Python 3",
   "language": "python",
   "name": "python3"
  },
  "language_info": {
   "codemirror_mode": {
    "name": "ipython",
    "version": 3
   },
   "file_extension": ".py",
   "mimetype": "text/x-python",
   "name": "python",
   "nbconvert_exporter": "python",
   "pygments_lexer": "ipython3",
   "version": "3.7.3"
  }
 },
 "nbformat": 4,
 "nbformat_minor": 2
}
